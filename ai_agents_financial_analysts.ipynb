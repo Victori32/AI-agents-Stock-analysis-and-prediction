{
 "cells": [
  {
   "cell_type": "code",
   "execution_count": null,
   "metadata": {},
   "outputs": [],
   "source": [
    "pip install crewai 'crewai[tools]' langchain_community"
   ]
  },
  {
   "cell_type": "code",
   "execution_count": 34,
   "metadata": {},
   "outputs": [],
   "source": [
    "# Warning control\n",
    "import warnings\n",
    "warnings.filterwarnings('ignore')"
   ]
  },
  {
   "cell_type": "code",
   "execution_count": 35,
   "metadata": {},
   "outputs": [],
   "source": [
    "from crewai import Agent, Task, Crew"
   ]
  },
  {
   "cell_type": "code",
   "execution_count": 36,
   "metadata": {},
   "outputs": [],
   "source": [
    "import os\n",
    "from utils import get_openai_api_key, get_serper_api_key\n",
    "\n",
    "openai_api_key = get_openai_api_key()\n",
    "os.environ[\"OPENAI_MODEL_NAME\"] = 'gpt-3.5-turbo'\n",
    "os.environ[\"SERPER_API_KEY\"] = get_serper_api_key()"
   ]
  },
  {
   "cell_type": "code",
   "execution_count": 37,
   "metadata": {},
   "outputs": [],
   "source": [
    "from crewai_tools import ScrapeWebsiteTool, SerperDevTool\n",
    "\n",
    "search_tool = SerperDevTool()\n",
    "scrape_tool = ScrapeWebsiteTool()"
   ]
  },
  {
   "cell_type": "code",
   "execution_count": 38,
   "metadata": {},
   "outputs": [],
   "source": [
    "financial_forecaster_agent = Agent(\n",
    "    role=\"Financial Forecaster\",\n",
    "    goal=\"Develop and refine predictive models for asset pricing and risk assessment, providing accurate financial forecasts.\",\n",
    "    backstory=\"With a deep understanding of econometric techniques and financial theory, this agent crafts sophisticated models to anticipate market fluctuations. The Financial Forecaster Agent is essential for strategic planning and investment optimization, leveraging historical data and current market conditions to project future outcomes.\",\n",
    "    verbose=True,\n",
    "    allow_delegation=True,\n",
    "    tools=[scrape_tool, search_tool]\n",
    ")"
   ]
  },
  {
   "cell_type": "code",
   "execution_count": 39,
   "metadata": {},
   "outputs": [],
   "source": [
    "risk_manager_agent = Agent(\n",
    "    role=\"Risk Manager\",\n",
    "    goal=\"Identify, assess, and mitigate financial risks across various portfolios using advanced quantitative techniques.\",\n",
    "    backstory=\"With a keen eye for potential vulnerabilities, this agent excels in building robust risk models and conducting stress tests. The Risk Manager Agent is crucial for safeguarding investments and ensuring regulatory compliance, employing sophisticated calculations and data analysis to minimize exposure to adverse market conditions.\",\n",
    "    verbose=True,\n",
    "    allow_delegation=True,\n",
    "    tools=[scrape_tool, search_tool]\n",
    ")"
   ]
  },
  {
   "cell_type": "code",
   "execution_count": 40,
   "metadata": {},
   "outputs": [],
   "source": [
    "portfolio_optimizer_agent = Agent(\n",
    "    role=\"Portfolio Optimizer\",\n",
    "    goal=\"Construct and rebalance investment portfolios to maximize returns while adhering to specific risk tolerances and investment objectives.\",\n",
    "    backstory=\"This agent specializes in applying optimization algorithms and financial modeling to create efficient portfolios. The Portfolio Optimizer Agent is essential for achieving optimal investment outcomes, leveraging data analysis and complex calculations to dynamically adjust asset allocations in response to changing market dynamics.\",\n",
    "    verbose=True,\n",
    "    allow_delegation=True,\n",
    "    tools=[scrape_tool, search_tool]\n",
    ")"
   ]
  },
  {
   "cell_type": "code",
   "execution_count": 41,
   "metadata": {},
   "outputs": [],
   "source": [
    "financial_forecast_task = Task(\n",
    "    description=(\n",
    "        \"Quick forecast for {stock_selection} price next quarter. Focus on key metrics only.\"\n",
    "    ),\n",
    "    expected_output=(\n",
    "        \"Brief price forecast with key support/resistance levels for {stock_selection}.\"\n",
    "    ),\n",
    "    agent=financial_forecaster_agent,\n",
    "    timeout=120  # Reduced to 2 minutes\n",
    ")"
   ]
  },
  {
   "cell_type": "code",
   "execution_count": 42,
   "metadata": {},
   "outputs": [],
   "source": [
    "risk_assessment_task = Task(\n",
    "    description=(\n",
    "        \"Quick risk assessment for {stock_selection}. List main risk factors.\"\n",
    "    ),\n",
    "    expected_output=(\n",
    "        \"Key risks and basic mitigation steps for {stock_selection}.\"\n",
    "    ),\n",
    "    agent=risk_manager_agent,\n",
    "    timeout=120\n",
    ")"
   ]
  },
  {
   "cell_type": "code",
   "execution_count": 43,
   "metadata": {},
   "outputs": [],
   "source": [
    "portfolio_optimization_task = Task(\n",
    "    description=(\n",
    "        \"Basic portfolio allocation for {stock_selection} with {initial_capital} and {risk_tolerance} risk.\"\n",
    "    ),\n",
    "    expected_output=(\n",
    "        \"Simple allocation strategy for {stock_selection} considering {risk_tolerance} risk.\"\n",
    "    ),\n",
    "    agent=portfolio_optimizer_agent,\n",
    "    timeout=120\n",
    ")"
   ]
  },
  {
   "cell_type": "code",
   "execution_count": null,
   "metadata": {},
   "outputs": [],
   "source": [
    "from crewai import Crew, Process\n",
    "from langchain_openai import ChatOpenAI\n",
    "\n",
    "# Define the crew with agents and tasks\n",
    "financial_analysis_crew = Crew(\n",
    "    agents=[financial_forecaster_agent, \n",
    "            risk_manager_agent, \n",
    "            portfolio_optimizer_agent],\n",
    "    \n",
    "    tasks=[financial_forecast_task, \n",
    "           risk_assessment_task, \n",
    "           portfolio_optimization_task],\n",
    "    \n",
    "    manager_llm=ChatOpenAI(model=\"gpt-3.5-turbo\", \n",
    "                           temperature=0.3),\n",
    "    process=Process.hierarchical,\n",
    "    verbose=True\n",
    ")"
   ]
  },
  {
   "cell_type": "code",
   "execution_count": 45,
   "metadata": {},
   "outputs": [],
   "source": [
    "financial_analysis_inputs = {\n",
    "    'stock_selection': 'CAP.PA',\n",
    "    'initial_capital': '250000',\n",
    "    'risk_tolerance': 'Medium',\n",
    "    'trading_strategy_preference': 'Day Trading',\n",
    "    'news_impact_consideration': True\n",
    "}"
   ]
  },
  {
   "cell_type": "code",
   "execution_count": null,
   "metadata": {},
   "outputs": [],
   "source": [
    "result = financial_analysis_crew.kickoff(inputs=financial_analysis_inputs)"
   ]
  },
  {
   "cell_type": "code",
   "execution_count": null,
   "metadata": {},
   "outputs": [],
   "source": [
    "from IPython.display import Markdown\n",
    "Markdown(result)"
   ]
  },
  {
   "cell_type": "code",
   "execution_count": null,
   "metadata": {},
   "outputs": [],
   "source": []
  }
 ],
 "metadata": {
  "kernelspec": {
   "display_name": "example",
   "language": "python",
   "name": "python3"
  },
  "language_info": {
   "codemirror_mode": {
    "name": "ipython",
    "version": 3
   },
   "file_extension": ".py",
   "mimetype": "text/x-python",
   "name": "python",
   "nbconvert_exporter": "python",
   "pygments_lexer": "ipython3",
   "version": "3.12.1"
  }
 },
 "nbformat": 4,
 "nbformat_minor": 2
}
